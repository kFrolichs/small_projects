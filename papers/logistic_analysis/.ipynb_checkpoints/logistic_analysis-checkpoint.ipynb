{
 "cells": [
  {
   "cell_type": "code",
   "execution_count": 70,
   "id": "e90f7eb3",
   "metadata": {
    "scrolled": false
   },
   "outputs": [],
   "source": [
    "from ipywidgets import interact\n",
    "import ipywidgets as widgets\n",
    "import matplotlib as mpl\n",
    "import matplotlib.pyplot as plt\n",
    "import numpy as np\n",
    "%matplotlib inline"
   ]
  },
  {
   "cell_type": "code",
   "execution_count": 44,
   "id": "8627b529",
   "metadata": {},
   "outputs": [
    {
     "data": {
      "application/vnd.jupyter.widget-view+json": {
       "model_id": "8f549d97547a4bbd97ce5e54a217997d",
       "version_major": 2,
       "version_minor": 0
      },
      "text/plain": [
       "IntSlider(value=1, max=10, min=1)"
      ]
     },
     "metadata": {},
     "output_type": "display_data"
    },
    {
     "data": {
      "application/vnd.jupyter.widget-view+json": {
       "model_id": "44124351609c4dbb80a049816f732215",
       "version_major": 2,
       "version_minor": 0
      },
      "text/plain": [
       "Output()"
      ]
     },
     "metadata": {},
     "output_type": "display_data"
    }
   ],
   "source": [
    "from ipywidgets import interact, interactive_output\n",
    "# import ipywidgets as widgets\n",
    "# import matplotlib as mpl\n",
    "# import matplotlib.pyplot as plt\n",
    "# %matplotlib inline\n",
    "\n",
    "x = widgets.IntSlider(min=1,max=10,step=1)\n",
    "display(x)\n",
    "\n",
    "def powerFunc(x):\n",
    "    retList = []\n",
    "    for i in range(10+1):\n",
    "        retList.append(i**x)\n",
    "        \n",
    "    # Plotting\n",
    "    fig, ax = plt.subplots()\n",
    "    ax.plot(retList)\n",
    "    ax.set_xlim([0, 10])\n",
    "    ax.set_ylim([0, 1000])\n",
    "    ax.set_title(\"Power Function: \"+ str(x))\n",
    "    plt.show()\n",
    "\n",
    "out = interactive_output(powerFunc, {'x':x})\n",
    "\n",
    "display(out)"
   ]
  },
  {
   "cell_type": "markdown",
   "id": "67c42509",
   "metadata": {},
   "source": [
    "### Equation 1\n",
    "The larger $\\eta$, the more the animal is likely to choose the higher value.\n"
   ]
  },
  {
   "cell_type": "code",
   "execution_count": 69,
   "id": "05d38f67",
   "metadata": {},
   "outputs": [
    {
     "data": {
      "application/vnd.jupyter.widget-view+json": {
       "model_id": "a8c9584f07664790ae66b5e148b7c815",
       "version_major": 2,
       "version_minor": 0
      },
      "text/plain": [
       "IntSlider(value=1, description='Eta', max=10, min=1)"
      ]
     },
     "metadata": {},
     "output_type": "display_data"
    },
    {
     "data": {
      "application/vnd.jupyter.widget-view+json": {
       "model_id": "858c8cac35f443539220904f67df1c64",
       "version_major": 2,
       "version_minor": 0
      },
      "text/plain": [
       "Dropdown(description='Value A:', options=(1, 2, 3, 4, 5), value=1)"
      ]
     },
     "metadata": {},
     "output_type": "display_data"
    },
    {
     "data": {
      "application/vnd.jupyter.widget-view+json": {
       "model_id": "a2b2bc356180469ea55c5678f799b700",
       "version_major": 2,
       "version_minor": 0
      },
      "text/plain": [
       "Dropdown(description='Value B:', options=(1, 2, 3, 4, 5), value=1)"
      ]
     },
     "metadata": {},
     "output_type": "display_data"
    },
    {
     "data": {
      "application/vnd.jupyter.widget-view+json": {
       "model_id": "6f97924d63b84defb9fd734a9b0bbbe3",
       "version_major": 2,
       "version_minor": 0
      },
      "text/plain": [
       "Output()"
      ]
     },
     "metadata": {},
     "output_type": "display_data"
    }
   ],
   "source": [
    "eta = widgets.IntSlider(min=1,max=10,step=1, description=\"Eta\")\n",
    "val_a = widgets.Dropdown(options=[1,2,3,4,5], description=\"Value A:\")\n",
    "val_b = widgets.Dropdown(options=[1,2,3,4,5], description=\"Value B:\")\n",
    "display(eta)\n",
    "display(val_a)\n",
    "display(val_b)\n",
    "\n",
    "def probJ(eta, val_a=3, val_b=4):\n",
    "    prob = lambda v1, v2, eta: (v1**eta) / ((v1**eta) + (v2**eta))\n",
    "    pA = prob(val_a, val_b, eta)\n",
    "    pB = prob(val_b, val_a, eta)\n",
    "    \n",
    "    # Plotting stuff\n",
    "    fig, ax = plt.subplots()\n",
    "    ax.bar([1,2],[pA, pB])\n",
    "    ax.set_xticks([1,2])\n",
    "    ax.set_xticklabels(['Probability A','Probability B'])\n",
    "    ax.set_ylim([0, 1])\n",
    "    ax.set_title(\"Influence of Eta on choice\")\n",
    "    plt.show()\n",
    "    \n",
    "out = interactive_output(probJ, {'eta':eta, 'val_a':val_a, 'val_b':val_b})\n",
    "\n",
    "display(out)"
   ]
  },
  {
   "cell_type": "markdown",
   "id": "a3caceb2",
   "metadata": {},
   "source": [
    "### Equation 2\n",
    "We can rewrite the probability function to a more general form"
   ]
  },
  {
   "cell_type": "code",
   "execution_count": 78,
   "id": "77d78de9",
   "metadata": {},
   "outputs": [
    {
     "name": "stdout",
     "output_type": "stream",
     "text": [
      "0.5\n"
     ]
    }
   ],
   "source": [
    "def newProb(eta, val_a, val_b):\n",
    "    prob = lambda v1, v2, eta: 1 / (1 + np.exp(-eta * np.log(v1/v2)))\n",
    "    pA = prob(val_a,val_b,eta)\n",
    "    return pA\n",
    "    \n",
    "print(newProb(1,3,3))"
   ]
  }
 ],
 "metadata": {
  "kernelspec": {
   "display_name": "Python 3 (ipykernel)",
   "language": "python",
   "name": "python3"
  },
  "language_info": {
   "codemirror_mode": {
    "name": "ipython",
    "version": 3
   },
   "file_extension": ".py",
   "mimetype": "text/x-python",
   "name": "python",
   "nbconvert_exporter": "python",
   "pygments_lexer": "ipython3",
   "version": "3.10.4"
  }
 },
 "nbformat": 4,
 "nbformat_minor": 5
}
